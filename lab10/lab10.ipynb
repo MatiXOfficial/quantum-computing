{
 "cells": [
  {
   "cell_type": "code",
   "execution_count": 1,
   "id": "4d096ad9-9546-472f-b0ec-9f0147d1b86a",
   "metadata": {},
   "outputs": [],
   "source": [
    "import numpy as np\n",
    "\n",
    "from qiskit import QuantumCircuit, QuantumRegister, ClassicalRegister, Aer, execute\n",
    "from qiskit.quantum_info import Statevector, random_statevector\n",
    "from qiskit.visualization import array_to_latex, plot_state_qsphere, plot_bloch_multivector\n",
    "from qiskit.extensions import Initialize\n",
    "\n",
    "TOKEN = ''\n",
    "\n",
    "from qiskit import transpile\n",
    "from qiskit.providers.aer import QasmSimulator\n",
    "\n",
    "from qiskit import IBMQ\n",
    "from qiskit.providers.ibmq import least_busy\n",
    "from qiskit.tools.monitor import job_monitor\n",
    "\n",
    "from qiskit.visualization import plot_histogram\n",
    "\n",
    "from IPython.display import display, HTML"
   ]
  },
  {
   "cell_type": "code",
   "execution_count": 2,
   "id": "14e66582-1ad0-4fdf-bc9f-fc651f58a474",
   "metadata": {},
   "outputs": [],
   "source": [
    "# IBMQ.save_account(TOKEN)\n",
    "IBMQ.load_account()\n",
    "provider = IBMQ.get_provider(hub='ibm-q')"
   ]
  },
  {
   "cell_type": "markdown",
   "id": "0b45d593-8fe2-4ee5-bc6a-f39b6af74db3",
   "metadata": {},
   "source": [
    "# Zadanie 1 - rozwiązanie 1"
   ]
  },
  {
   "cell_type": "markdown",
   "id": "4ea7fa61-6e1b-4bba-8565-dbaddbd35e67",
   "metadata": {},
   "source": [
    "## Oracle (10)"
   ]
  },
  {
   "cell_type": "code",
   "execution_count": 3,
   "id": "7900bb0a-b4bd-4b49-a05c-f6a7a587719d",
   "metadata": {},
   "outputs": [],
   "source": [
    "def _switch_oracle(circuit, x):\n",
    "    if x == 0:\n",
    "        circuit.x(0)\n",
    "        circuit.x(1)\n",
    "    elif x == 1:\n",
    "        circuit.x(1)\n",
    "    elif x == 2:\n",
    "        circuit.x(0)\n",
    "    elif x == 3:\n",
    "        pass\n",
    "    else:\n",
    "        raise ValueError('Wrong x')\n",
    "\n",
    "def get_oracle(x=3):\n",
    "    circuit = QuantumCircuit(3, name='oracle')\n",
    "    \n",
    "    _switch_oracle(circuit, x)\n",
    "    circuit.toffoli(0, 1, 2)\n",
    "    _switch_oracle(circuit, x)\n",
    "    \n",
    "    return circuit"
   ]
  },
  {
   "cell_type": "code",
   "execution_count": 4,
   "id": "a16790b8-33c6-4418-ae1a-56e9d9d69f50",
   "metadata": {},
   "outputs": [
    {
     "data": {
      "image/png": "[encoded data removed]",
      "text/plain": [
       "<Figure size 267.197x204.68 with 1 Axes>"
      ]
     },
     "execution_count": 4,
     "metadata": {},
     "output_type": "execute_result"
    }
   ],
   "source": [
    "oracle = get_oracle(x=2)\n",
    "oracle.draw('mpl')"
   ]
  },
  {
   "cell_type": "markdown",
   "id": "19037e53-f0e1-4e3e-8bc9-ae35190dcd14",
   "metadata": {},
   "source": [
    "## Grover circuit"
   ]
  },
  {
   "cell_type": "code",
   "execution_count": 5,
   "id": "39b793ce-0861-4a9f-8137-d6f7273b2705",
   "metadata": {},
   "outputs": [],
   "source": [
    "def add_grover(circuit, oracle):\n",
    "    # prepare 1 on y\n",
    "    circuit.x(2)\n",
    "    circuit.barrier()\n",
    "    \n",
    "    # oracle\n",
    "    circuit.h([0, 1, 2])\n",
    "    circuit.append(oracle, [0, 1, 2])\n",
    "    circuit.barrier()\n",
    "    \n",
    "    # inversion\n",
    "    circuit.h([0, 1])\n",
    "    circuit.x([0, 1])\n",
    "    circuit.barrier()\n",
    "    \n",
    "    circuit.h(1)\n",
    "    circuit.cnot(0, 1)\n",
    "    circuit.h(1)\n",
    "    circuit.barrier()\n",
    "    \n",
    "    circuit.x([0, 1])\n",
    "    \n",
    "    circuit.h([0, 1])\n",
    "    \n",
    "    return circuit"
   ]
  },
  {
   "cell_type": "code",
   "execution_count": 6,
   "id": "77f3506e-187f-41ee-8e90-f9a857b4b884",
   "metadata": {},
   "outputs": [
    {
     "data": {
      "image/png": "[encoded data removed]",
      "text/plain": [
       "<Figure size 1110x264.88 with 1 Axes>"
      ]
     },
     "execution_count": 6,
     "metadata": {},
     "output_type": "execute_result"
    }
   ],
   "source": [
    "circuit = QuantumCircuit(3, 2)\n",
    "add_grover(circuit, oracle)\n",
    "circuit.measure([0, 1], [0, 1])\n",
    "circuit.draw('mpl')"
   ]
  },
  {
   "cell_type": "markdown",
   "id": "40fef79b-f7ab-4889-bbba-c9d5e5bf6b74",
   "metadata": {},
   "source": [
    "## Test"
   ]
  },
  {
   "cell_type": "code",
   "execution_count": 7,
   "id": "723e4317-f40e-4c24-8c62-27ed88a18614",
   "metadata": {},
   "outputs": [
    {
     "name": "stdout",
     "output_type": "stream",
     "text": [
      "{'10': 1024}\n"
     ]
    }
   ],
   "source": [
    "backend = QasmSimulator()\n",
    "\n",
    "circuit_compiled = transpile(circuit, backend, optimization_level=3)\n",
    "job_sim = backend.run(circuit_compiled, shots=1024)\n",
    "result_sim = job_sim.result()\n",
    "sim_counts = result_sim.get_counts(circuit_compiled)\n",
    "print(sim_counts)"
   ]
  },
  {
   "cell_type": "code",
   "execution_count": 9,
   "id": "84d6bf4d-8245-4437-9680-a90b52d68e14",
   "metadata": {},
   "outputs": [
    {
     "name": "stdout",
     "output_type": "stream",
     "text": [
      "least busy backend:  ibmq_quito\n",
      "Job Status: job has successfully run\n",
      "{'00': 146, '01': 54, '10': 766, '11': 58}\n"
     ]
    }
   ],
   "source": [
    "backend = least_busy(provider.backends(filters=lambda x: x.configuration().n_qubits >= 3 \n",
    "                                       and not x.configuration().simulator \n",
    "                                       and x.status().operational==True))\n",
    "print(\"least busy backend: \", backend)\n",
    "\n",
    "circuit_compiled = transpile(circuit, backend, optimization_level=3)\n",
    "\n",
    "job_real = backend.run(circuit_compiled, shots=1024)\n",
    "job_monitor(job_real, interval=1)\n",
    "result_real = job_real.result()\n",
    "real_counts = result_real.get_counts()\n",
    "print(real_counts)"
   ]
  },
  {
   "cell_type": "code",
   "execution_count": 10,
   "id": "251fcaa4-6307-415f-8e04-a95c3d0013b2",
   "metadata": {},
   "outputs": [
    {
     "data": {
      "image/png": "[encoded data removed]",
      "text/plain": [
       "<Figure size 504x360 with 1 Axes>"
      ]
     },
     "execution_count": 10,
     "metadata": {},
     "output_type": "execute_result"
    }
   ],
   "source": [
    "plot_histogram(data=[real_counts, sim_counts], legend=['quantum device', 'simulation'])"
   ]
  },
  {
   "cell_type": "markdown",
   "id": "dc4a6607-e1c2-4b1e-a131-f3c9e85167a9",
   "metadata": {},
   "source": [
    "# Zadanie 1 - rozwiązanie 2"
   ]
  },
  {
   "cell_type": "markdown",
   "id": "54923714-9167-481d-90ac-75533b7387c5",
   "metadata": {},
   "source": [
    "## Oracle (01)"
   ]
  },
  {
   "cell_type": "code",
   "execution_count": 11,
   "id": "3614ec67-07d3-4089-87b4-2aa27d6f7f45",
   "metadata": {},
   "outputs": [],
   "source": [
    "def get_oracle(x=3):\n",
    "    circuit = QuantumCircuit(2, name='oracle')\n",
    "    \n",
    "    _switch_oracle(circuit, x)\n",
    "    circuit.cz(0, 1)\n",
    "    _switch_oracle(circuit, x)\n",
    "    \n",
    "    return circuit"
   ]
  },
  {
   "cell_type": "code",
   "execution_count": 12,
   "id": "5ebd801c-f076-4f1c-972c-b28f7931a070",
   "metadata": {},
   "outputs": [
    {
     "data": {
      "image/png": "[encoded data removed]",
      "text/plain": [
       "<Figure size 267.052x144.48 with 1 Axes>"
      ]
     },
     "execution_count": 12,
     "metadata": {},
     "output_type": "execute_result"
    }
   ],
   "source": [
    "oracle = get_oracle(x=1)\n",
    "oracle.draw('mpl')"
   ]
  },
  {
   "cell_type": "markdown",
   "id": "3e05d283-51ad-4f34-abe4-22f0f51369f6",
   "metadata": {},
   "source": [
    "## Grover circuit"
   ]
  },
  {
   "cell_type": "code",
   "execution_count": 13,
   "id": "7abbadad-8323-4791-b2e0-160254022120",
   "metadata": {},
   "outputs": [],
   "source": [
    "def add_grover(circuit, oracle):\n",
    "    # oracle\n",
    "    circuit.h([0, 1])\n",
    "    circuit.append(oracle, [0, 1])\n",
    "    circuit.barrier()\n",
    "    \n",
    "    # inversion\n",
    "    circuit.h([0, 1])\n",
    "    circuit.z([0, 1])\n",
    "    \n",
    "    circuit.cz(0, 1)\n",
    "    circuit.h([0, 1])\n",
    "    \n",
    "    return circuit"
   ]
  },
  {
   "cell_type": "code",
   "execution_count": 14,
   "id": "1aa252fd-3fcb-4200-a88e-87f609de46d3",
   "metadata": {},
   "outputs": [
    {
     "data": {
      "image/png": "[encoded data removed]",
      "text/plain": [
       "<Figure size 688.452x204.68 with 1 Axes>"
      ]
     },
     "execution_count": 14,
     "metadata": {},
     "output_type": "execute_result"
    }
   ],
   "source": [
    "circuit = QuantumCircuit(2, 2)\n",
    "add_grover(circuit, oracle)\n",
    "circuit.measure([0, 1], [0, 1])\n",
    "circuit.draw('mpl')"
   ]
  },
  {
   "cell_type": "markdown",
   "id": "ef017bcb-9b29-45b4-bddd-b2e3202da9f5",
   "metadata": {},
   "source": [
    "## Test"
   ]
  },
  {
   "cell_type": "code",
   "execution_count": 15,
   "id": "89b0f8fe-6511-4c97-aefb-9f772cd45aa2",
   "metadata": {},
   "outputs": [
    {
     "name": "stdout",
     "output_type": "stream",
     "text": [
      "{'01': 1024}\n"
     ]
    }
   ],
   "source": [
    "backend = QasmSimulator()\n",
    "\n",
    "circuit_compiled = transpile(circuit, backend, optimization_level=3)\n",
    "job_sim = backend.run(circuit_compiled, shots=1024)\n",
    "result_sim = job_sim.result()\n",
    "sim_counts = result_sim.get_counts(circuit_compiled)\n",
    "print(sim_counts)"
   ]
  },
  {
   "cell_type": "code",
   "execution_count": 18,
   "id": "7113ae96-55aa-4331-af91-0fc0c38d79c0",
   "metadata": {},
   "outputs": [
    {
     "name": "stdout",
     "output_type": "stream",
     "text": [
      "least busy backend:  ibmq_santiago\n",
      "Job Status: job has successfully run\n",
      "{'00': 41, '01': 928, '10': 3, '11': 52}\n"
     ]
    }
   ],
   "source": [
    "backend = least_busy(provider.backends(filters=lambda x: x.configuration().n_qubits >= 3 \n",
    "                                       and not x.configuration().simulator \n",
    "                                       and x.status().operational==True))\n",
    "print(\"least busy backend: \", backend)\n",
    "\n",
    "circuit_compiled = transpile(circuit, backend, optimization_level=3)\n",
    "\n",
    "job_real = backend.run(circuit_compiled, shots=1024)\n",
    "job_monitor(job_real, interval=1)\n",
    "result_real = job_real.result()\n",
    "real_counts = result_real.get_counts()\n",
    "print(real_counts)"
   ]
  },
  {
   "cell_type": "code",
   "execution_count": 19,
   "id": "9e8842ea-16ad-4b0c-a069-b40f1cccb6b7",
   "metadata": {},
   "outputs": [
    {
     "data": {
      "image/png": "[encoded data removed]",
      "text/plain": [
       "<Figure size 504x360 with 1 Axes>"
      ]
     },
     "execution_count": 19,
     "metadata": {},
     "output_type": "execute_result"
    }
   ],
   "source": [
    "plot_histogram(data=[real_counts, sim_counts], legend=['quantum device', 'simulation'])"
   ]
  },
  {
   "cell_type": "markdown",
   "id": "ed83d4fe-ecfc-40d5-8e89-7c69b23e1005",
   "metadata": {},
   "source": [
    "# Zadanie 2"
   ]
  },
  {
   "cell_type": "code",
   "execution_count": 20,
   "id": "c0de1d13-0837-44eb-8cd3-e4afbcd3114c",
   "metadata": {},
   "outputs": [],
   "source": [
    "N = 6 # n qubits\n",
    "\n",
    "all_ = list(range(N))\n",
    "head = N - 1\n",
    "tail = list(range(N - 1))"
   ]
  },
  {
   "cell_type": "markdown",
   "id": "77c22ca4-583b-4f93-9a7e-161d2a5521bd",
   "metadata": {},
   "source": [
    "## Oracle"
   ]
  },
  {
   "cell_type": "code",
   "execution_count": 21,
   "id": "2e33ceb7-c3cb-4d52-af22-20e79815fa6a",
   "metadata": {},
   "outputs": [],
   "source": [
    "def _switch_oracle(circuit, x):\n",
    "    for i in range(N):\n",
    "        if x % 2 == 0:\n",
    "            circuit.x(i)\n",
    "        x //= 2\n",
    "        \n",
    "def get_oracle(x=5):\n",
    "    circuit = QuantumCircuit(N, name='oracle')\n",
    "    \n",
    "    _switch_oracle(circuit, x)\n",
    "    circuit.barrier()\n",
    "    \n",
    "    # controlled z\n",
    "    circuit.h(head)\n",
    "    circuit.mcx(tail, head)\n",
    "    circuit.h(head)\n",
    "    circuit.barrier()\n",
    "    \n",
    "    _switch_oracle(circuit, x)\n",
    "    \n",
    "    return circuit"
   ]
  },
  {
   "cell_type": "code",
   "execution_count": 22,
   "id": "37377c04-9ab5-4695-8cad-1b6cb38edd02",
   "metadata": {},
   "outputs": [
    {
     "data": {
      "image/png": "[encoded data removed]",
      "text/plain": [
       "<Figure size 507.997x385.28 with 1 Axes>"
      ]
     },
     "execution_count": 22,
     "metadata": {},
     "output_type": "execute_result"
    }
   ],
   "source": [
    "oracle = get_oracle(x=10)\n",
    "oracle.draw('mpl')"
   ]
  },
  {
   "cell_type": "markdown",
   "id": "7c29e8e9-8a2f-4448-b291-a3366ce953e5",
   "metadata": {},
   "source": [
    "## Grover"
   ]
  },
  {
   "cell_type": "code",
   "execution_count": 23,
   "id": "d9b78aee-6041-4cf1-8266-b3892eb93445",
   "metadata": {},
   "outputs": [],
   "source": [
    "def add_grover_iteration(circuit, oracle):\n",
    "    # oracle\n",
    "    circuit.append(oracle, all_)\n",
    "    \n",
    "    # inversion\n",
    "    circuit.h(all_)\n",
    "    circuit.x(all_)\n",
    "    circuit.barrier()\n",
    "    \n",
    "    circuit.h(head)\n",
    "    circuit.mcx(tail, head) # controlled z\n",
    "    circuit.h(head)\n",
    "    circuit.barrier()\n",
    "    \n",
    "    circuit.x(all_)\n",
    "    circuit.h(all_)\n",
    "    \n",
    "def get_grover(oracle, n):\n",
    "    circuit = QuantumCircuit(N)\n",
    "    circuit.h(all_)\n",
    "    for _ in range(n):\n",
    "        add_grover_iteration(circuit, oracle)\n",
    "        circuit.barrier()\n",
    "    return circuit"
   ]
  },
  {
   "cell_type": "code",
   "execution_count": 24,
   "id": "b9698666-ef62-49a4-8d8b-9c8c484380b6",
   "metadata": {},
   "outputs": [
    {
     "data": {
      "image/png": "[encoded data removed]",
      "text/plain": [
       "<Figure size 869.197x385.28 with 1 Axes>"
      ]
     },
     "execution_count": 24,
     "metadata": {},
     "output_type": "execute_result"
    }
   ],
   "source": [
    "circuit = get_grover(oracle, 1)\n",
    "circuit.draw('mpl')"
   ]
  },
  {
   "cell_type": "markdown",
   "id": "19e6ebda-2d3e-4e4d-b7cb-d1ae4db640f5",
   "metadata": {},
   "source": [
    "## Test: $n \\approx \\frac{\\pi}{4}\\sqrt{N}$"
   ]
  },
  {
   "cell_type": "code",
   "execution_count": 25,
   "id": "11f644ea-ec5d-481f-8461-ed449b37a113",
   "metadata": {},
   "outputs": [
    {
     "name": "stdout",
     "output_type": "stream",
     "text": [
      "n = 6.2832\n"
     ]
    }
   ],
   "source": [
    "n = np.pi / 4 * np.sqrt(2 ** N)\n",
    "print(f'n = {n:.4f}')"
   ]
  },
  {
   "cell_type": "code",
   "execution_count": 26,
   "id": "a93e6a08-7e23-42e2-b153-00695d705194",
   "metadata": {},
   "outputs": [],
   "source": [
    "def print_amplitudes(circuit, n=N, long=True):\n",
    "    state = Statevector.from_int(0, 2**n)\n",
    "    state = state.evolve(circuit)\n",
    "    i_max = np.argmax(np.abs(state))\n",
    "    print(f'Max amplitude: {state[int(i_max)]:.3f}')\n",
    "    if long:\n",
    "        for i in range(2 ** n):\n",
    "            basis_state = bin(i).replace('0b', '')\n",
    "            basis_state = '0' * (n - len(basis_state)) + basis_state\n",
    "            if i != i_max:\n",
    "                print(f\"{'|' + basis_state + '>':>5}: {state[i]:.3f}\")\n",
    "            else:\n",
    "                print(f\"{'|' + basis_state + '>':>5}: {state[i]:.3f} <----------------------\")"
   ]
  },
  {
   "cell_type": "code",
   "execution_count": 27,
   "id": "8dd6c137-4afc-493b-96fc-8b7ed6d49232",
   "metadata": {},
   "outputs": [
    {
     "name": "stdout",
     "output_type": "stream",
     "text": [
      "n =  1  Max amplitude: -0.367+0.000j\n",
      "n =  2  Max amplitude: 0.586-0.000j\n",
      "n =  3  Max amplitude: -0.769+0.000j\n",
      "n =  4  Max amplitude: 0.904-0.000j\n",
      "n =  5  Max amplitude: -0.982+0.000j\n",
      "n =  6  Max amplitude: 0.998-0.000j\n",
      "n =  7  Max amplitude: -0.953+0.000j\n",
      "n =  8  Max amplitude: 0.847-0.000j\n"
     ]
    }
   ],
   "source": [
    "for n in range(1, 9):\n",
    "    print(f'n = {n:2}  ', end='')\n",
    "    print_amplitudes(get_grover(oracle, n), long=False)"
   ]
  },
  {
   "cell_type": "code",
   "execution_count": 28,
   "id": "ce73d721-4a62-4cc2-8da1-51fedf9f1ddb",
   "metadata": {
    "scrolled": true,
    "tags": []
   },
   "outputs": [
    {
     "data": {
      "text/html": [
       "<h2>n = 1</h2>"
      ],
      "text/plain": [
       "<IPython.core.display.HTML object>"
      ]
     },
     "metadata": {},
     "output_type": "display_data"
    },
    {
     "name": "stdout",
     "output_type": "stream",
     "text": [
      "Max amplitude: -0.367+0.000j\n",
      "|000000>: -0.117+0.000j\n",
      "|000001>: -0.117+0.000j\n",
      "|000010>: -0.117+0.000j\n",
      "|000011>: -0.117+0.000j\n",
      "|000100>: -0.117+0.000j\n",
      "|000101>: -0.117+0.000j\n",
      "|000110>: -0.117+0.000j\n",
      "|000111>: -0.117+0.000j\n",
      "|001000>: -0.117+0.000j\n",
      "|001001>: -0.117+0.000j\n",
      "|001010>: -0.367+0.000j <----------------------\n",
      "|001011>: -0.117+0.000j\n",
      "|001100>: -0.117+0.000j\n",
      "|001101>: -0.117+0.000j\n",
      "|001110>: -0.117+0.000j\n",
      "|001111>: -0.117-0.000j\n",
      "|010000>: -0.117+0.000j\n",
      "|010001>: -0.117+0.000j\n",
      "|010010>: -0.117+0.000j\n",
      "|010011>: -0.117+0.000j\n",
      "|010100>: -0.117+0.000j\n",
      "|010101>: -0.117+0.000j\n",
      "|010110>: -0.117+0.000j\n",
      "|010111>: -0.117+0.000j\n",
      "|011000>: -0.117+0.000j\n",
      "|011001>: -0.117+0.000j\n",
      "|011010>: -0.117+0.000j\n",
      "|011011>: -0.117+0.000j\n",
      "|011100>: -0.117+0.000j\n",
      "|011101>: -0.117+0.000j\n",
      "|011110>: -0.117+0.000j\n",
      "|011111>: -0.117+0.000j\n",
      "|100000>: -0.117+0.000j\n",
      "|100001>: -0.117+0.000j\n",
      "|100010>: -0.117+0.000j\n",
      "|100011>: -0.117+0.000j\n",
      "|100100>: -0.117+0.000j\n",
      "|100101>: -0.117+0.000j\n",
      "|100110>: -0.117+0.000j\n",
      "|100111>: -0.117+0.000j\n",
      "|101000>: -0.117+0.000j\n",
      "|101001>: -0.117+0.000j\n",
      "|101010>: -0.117+0.000j\n",
      "|101011>: -0.117+0.000j\n",
      "|101100>: -0.117+0.000j\n",
      "|101101>: -0.117+0.000j\n",
      "|101110>: -0.117+0.000j\n",
      "|101111>: -0.117+0.000j\n",
      "|110000>: -0.117+0.000j\n",
      "|110001>: -0.117+0.000j\n",
      "|110010>: -0.117+0.000j\n",
      "|110011>: -0.117+0.000j\n",
      "|110100>: -0.117+0.000j\n",
      "|110101>: -0.117+0.000j\n",
      "|110110>: -0.117+0.000j\n",
      "|110111>: -0.117+0.000j\n",
      "|111000>: -0.117+0.000j\n",
      "|111001>: -0.117+0.000j\n",
      "|111010>: -0.117+0.000j\n",
      "|111011>: -0.117+0.000j\n",
      "|111100>: -0.117+0.000j\n",
      "|111101>: -0.117+0.000j\n",
      "|111110>: -0.117+0.000j\n",
      "|111111>: -0.117+0.000j\n"
     ]
    },
    {
     "data": {
      "text/html": [
       "<h2>n = 2</h2>"
      ],
      "text/plain": [
       "<IPython.core.display.HTML object>"
      ]
     },
     "metadata": {},
     "output_type": "display_data"
    },
    {
     "name": "stdout",
     "output_type": "stream",
     "text": [
      "Max amplitude: 0.586-0.000j\n",
      "|000000>: 0.102-0.000j\n",
      "|000001>: 0.102-0.000j\n",
      "|000010>: 0.102-0.000j\n",
      "|000011>: 0.102-0.000j\n",
      "|000100>: 0.102-0.000j\n",
      "|000101>: 0.102-0.000j\n",
      "|000110>: 0.102-0.000j\n",
      "|000111>: 0.102-0.000j\n",
      "|001000>: 0.102-0.000j\n",
      "|001001>: 0.102+0.000j\n",
      "|001010>: 0.586-0.000j <----------------------\n",
      "|001011>: 0.102-0.000j\n",
      "|001100>: 0.102-0.000j\n",
      "|001101>: 0.102-0.000j\n",
      "|001110>: 0.102-0.000j\n",
      "|001111>: 0.102-0.000j\n",
      "|010000>: 0.102-0.000j\n",
      "|010001>: 0.102-0.000j\n",
      "|010010>: 0.102-0.000j\n",
      "|010011>: 0.102-0.000j\n",
      "|010100>: 0.102-0.000j\n",
      "|010101>: 0.102-0.000j\n",
      "|010110>: 0.102-0.000j\n",
      "|010111>: 0.102-0.000j\n",
      "|011000>: 0.102-0.000j\n",
      "|011001>: 0.102-0.000j\n",
      "|011010>: 0.102-0.000j\n",
      "|011011>: 0.102-0.000j\n",
      "|011100>: 0.102-0.000j\n",
      "|011101>: 0.102-0.000j\n",
      "|011110>: 0.102-0.000j\n",
      "|011111>: 0.102-0.000j\n",
      "|100000>: 0.102-0.000j\n",
      "|100001>: 0.102-0.000j\n",
      "|100010>: 0.102-0.000j\n",
      "|100011>: 0.102-0.000j\n",
      "|100100>: 0.102-0.000j\n",
      "|100101>: 0.102-0.000j\n",
      "|100110>: 0.102-0.000j\n",
      "|100111>: 0.102-0.000j\n",
      "|101000>: 0.102-0.000j\n",
      "|101001>: 0.102-0.000j\n",
      "|101010>: 0.102-0.000j\n",
      "|101011>: 0.102-0.000j\n",
      "|101100>: 0.102-0.000j\n",
      "|101101>: 0.102-0.000j\n",
      "|101110>: 0.102-0.000j\n",
      "|101111>: 0.102-0.000j\n",
      "|110000>: 0.102-0.000j\n",
      "|110001>: 0.102-0.000j\n",
      "|110010>: 0.102-0.000j\n",
      "|110011>: 0.102-0.000j\n",
      "|110100>: 0.102-0.000j\n",
      "|110101>: 0.102-0.000j\n",
      "|110110>: 0.102-0.000j\n",
      "|110111>: 0.102-0.000j\n",
      "|111000>: 0.102-0.000j\n",
      "|111001>: 0.102-0.000j\n",
      "|111010>: 0.102-0.000j\n",
      "|111011>: 0.102-0.000j\n",
      "|111100>: 0.102-0.000j\n",
      "|111101>: 0.102-0.000j\n",
      "|111110>: 0.102-0.000j\n",
      "|111111>: 0.102-0.000j\n"
     ]
    },
    {
     "data": {
      "text/html": [
       "<h2>n = 3</h2>"
      ],
      "text/plain": [
       "<IPython.core.display.HTML object>"
      ]
     },
     "metadata": {},
     "output_type": "display_data"
    },
    {
     "name": "stdout",
     "output_type": "stream",
     "text": [
      "Max amplitude: -0.769+0.000j\n",
      "|000000>: -0.081+0.000j\n",
      "|000001>: -0.081+0.000j\n",
      "|000010>: -0.081+0.000j\n",
      "|000011>: -0.081+0.000j\n",
      "|000100>: -0.081+0.000j\n",
      "|000101>: -0.081+0.000j\n",
      "|000110>: -0.081+0.000j\n",
      "|000111>: -0.081+0.000j\n",
      "|001000>: -0.081+0.000j\n",
      "|001001>: -0.081+0.000j\n",
      "|001010>: -0.769+0.000j <----------------------\n",
      "|001011>: -0.081+0.000j\n",
      "|001100>: -0.081+0.000j\n",
      "|001101>: -0.081+0.000j\n",
      "|001110>: -0.081+0.000j\n",
      "|001111>: -0.081+0.000j\n",
      "|010000>: -0.081+0.000j\n",
      "|010001>: -0.081+0.000j\n",
      "|010010>: -0.081+0.000j\n",
      "|010011>: -0.081+0.000j\n",
      "|010100>: -0.081+0.000j\n",
      "|010101>: -0.081+0.000j\n",
      "|010110>: -0.081+0.000j\n",
      "|010111>: -0.081+0.000j\n",
      "|011000>: -0.081+0.000j\n",
      "|011001>: -0.081+0.000j\n",
      "|011010>: -0.081+0.000j\n",
      "|011011>: -0.081+0.000j\n",
      "|011100>: -0.081+0.000j\n",
      "|011101>: -0.081+0.000j\n",
      "|011110>: -0.081+0.000j\n",
      "|011111>: -0.081+0.000j\n",
      "|100000>: -0.081+0.000j\n",
      "|100001>: -0.081+0.000j\n",
      "|100010>: -0.081+0.000j\n",
      "|100011>: -0.081+0.000j\n",
      "|100100>: -0.081+0.000j\n",
      "|100101>: -0.081+0.000j\n",
      "|100110>: -0.081+0.000j\n",
      "|100111>: -0.081+0.000j\n",
      "|101000>: -0.081+0.000j\n",
      "|101001>: -0.081+0.000j\n",
      "|101010>: -0.081+0.000j\n",
      "|101011>: -0.081+0.000j\n",
      "|101100>: -0.081+0.000j\n",
      "|101101>: -0.081+0.000j\n",
      "|101110>: -0.081+0.000j\n",
      "|101111>: -0.081+0.000j\n",
      "|110000>: -0.081+0.000j\n",
      "|110001>: -0.081+0.000j\n",
      "|110010>: -0.081+0.000j\n",
      "|110011>: -0.081+0.000j\n",
      "|110100>: -0.081+0.000j\n",
      "|110101>: -0.081+0.000j\n",
      "|110110>: -0.081+0.000j\n",
      "|110111>: -0.081+0.000j\n",
      "|111000>: -0.081+0.000j\n",
      "|111001>: -0.081+0.000j\n",
      "|111010>: -0.081+0.000j\n",
      "|111011>: -0.081+0.000j\n",
      "|111100>: -0.081+0.000j\n",
      "|111101>: -0.081+0.000j\n",
      "|111110>: -0.081+0.000j\n",
      "|111111>: -0.081+0.000j\n"
     ]
    },
    {
     "data": {
      "text/html": [
       "<h2>n = 4</h2>"
      ],
      "text/plain": [
       "<IPython.core.display.HTML object>"
      ]
     },
     "metadata": {},
     "output_type": "display_data"
    },
    {
     "name": "stdout",
     "output_type": "stream",
     "text": [
      "Max amplitude: 0.904-0.000j\n",
      "|000000>: 0.054-0.000j\n",
      "|000001>: 0.054-0.000j\n",
      "|000010>: 0.054-0.000j\n",
      "|000011>: 0.054-0.000j\n",
      "|000100>: 0.054-0.000j\n",
      "|000101>: 0.054-0.000j\n",
      "|000110>: 0.054-0.000j\n",
      "|000111>: 0.054-0.000j\n",
      "|001000>: 0.054-0.000j\n",
      "|001001>: 0.054-0.000j\n",
      "|001010>: 0.904-0.000j <----------------------\n",
      "|001011>: 0.054-0.000j\n",
      "|001100>: 0.054-0.000j\n",
      "|001101>: 0.054-0.000j\n",
      "|001110>: 0.054-0.000j\n",
      "|001111>: 0.054-0.000j\n",
      "|010000>: 0.054-0.000j\n",
      "|010001>: 0.054-0.000j\n",
      "|010010>: 0.054-0.000j\n",
      "|010011>: 0.054-0.000j\n",
      "|010100>: 0.054-0.000j\n",
      "|010101>: 0.054-0.000j\n",
      "|010110>: 0.054-0.000j\n",
      "|010111>: 0.054-0.000j\n",
      "|011000>: 0.054-0.000j\n",
      "|011001>: 0.054-0.000j\n",
      "|011010>: 0.054-0.000j\n",
      "|011011>: 0.054-0.000j\n",
      "|011100>: 0.054-0.000j\n",
      "|011101>: 0.054-0.000j\n",
      "|011110>: 0.054-0.000j\n",
      "|011111>: 0.054-0.000j\n",
      "|100000>: 0.054-0.000j\n",
      "|100001>: 0.054-0.000j\n",
      "|100010>: 0.054-0.000j\n",
      "|100011>: 0.054-0.000j\n",
      "|100100>: 0.054-0.000j\n",
      "|100101>: 0.054-0.000j\n",
      "|100110>: 0.054-0.000j\n",
      "|100111>: 0.054-0.000j\n",
      "|101000>: 0.054-0.000j\n",
      "|101001>: 0.054-0.000j\n",
      "|101010>: 0.054-0.000j\n",
      "|101011>: 0.054-0.000j\n",
      "|101100>: 0.054-0.000j\n",
      "|101101>: 0.054-0.000j\n",
      "|101110>: 0.054-0.000j\n",
      "|101111>: 0.054-0.000j\n",
      "|110000>: 0.054-0.000j\n",
      "|110001>: 0.054-0.000j\n",
      "|110010>: 0.054-0.000j\n",
      "|110011>: 0.054-0.000j\n",
      "|110100>: 0.054-0.000j\n",
      "|110101>: 0.054-0.000j\n",
      "|110110>: 0.054-0.000j\n",
      "|110111>: 0.054-0.000j\n",
      "|111000>: 0.054-0.000j\n",
      "|111001>: 0.054-0.000j\n",
      "|111010>: 0.054-0.000j\n",
      "|111011>: 0.054-0.000j\n",
      "|111100>: 0.054-0.000j\n",
      "|111101>: 0.054-0.000j\n",
      "|111110>: 0.054-0.000j\n",
      "|111111>: 0.054-0.000j\n"
     ]
    },
    {
     "data": {
      "text/html": [
       "<h2>n = 5</h2>"
      ],
      "text/plain": [
       "<IPython.core.display.HTML object>"
      ]
     },
     "metadata": {},
     "output_type": "display_data"
    },
    {
     "name": "stdout",
     "output_type": "stream",
     "text": [
      "Max amplitude: -0.982+0.000j\n",
      "|000000>: -0.024+0.000j\n",
      "|000001>: -0.024+0.000j\n",
      "|000010>: -0.024+0.000j\n",
      "|000011>: -0.024+0.000j\n",
      "|000100>: -0.024+0.000j\n",
      "|000101>: -0.024+0.000j\n",
      "|000110>: -0.024+0.000j\n",
      "|000111>: -0.024+0.000j\n",
      "|001000>: -0.024+0.000j\n",
      "|001001>: -0.024+0.000j\n",
      "|001010>: -0.982+0.000j <----------------------\n",
      "|001011>: -0.024+0.000j\n",
      "|001100>: -0.024+0.000j\n",
      "|001101>: -0.024+0.000j\n",
      "|001110>: -0.024-0.000j\n",
      "|001111>: -0.024-0.000j\n",
      "|010000>: -0.024+0.000j\n",
      "|010001>: -0.024+0.000j\n",
      "|010010>: -0.024+0.000j\n",
      "|010011>: -0.024+0.000j\n",
      "|010100>: -0.024+0.000j\n",
      "|010101>: -0.024+0.000j\n",
      "|010110>: -0.024+0.000j\n",
      "|010111>: -0.024+0.000j\n",
      "|011000>: -0.024+0.000j\n",
      "|011001>: -0.024+0.000j\n",
      "|011010>: -0.024+0.000j\n",
      "|011011>: -0.024+0.000j\n",
      "|011100>: -0.024+0.000j\n",
      "|011101>: -0.024+0.000j\n",
      "|011110>: -0.024+0.000j\n",
      "|011111>: -0.024+0.000j\n",
      "|100000>: -0.024+0.000j\n",
      "|100001>: -0.024+0.000j\n",
      "|100010>: -0.024+0.000j\n",
      "|100011>: -0.024+0.000j\n",
      "|100100>: -0.024+0.000j\n",
      "|100101>: -0.024+0.000j\n",
      "|100110>: -0.024+0.000j\n",
      "|100111>: -0.024+0.000j\n",
      "|101000>: -0.024+0.000j\n",
      "|101001>: -0.024+0.000j\n",
      "|101010>: -0.024+0.000j\n",
      "|101011>: -0.024+0.000j\n",
      "|101100>: -0.024+0.000j\n",
      "|101101>: -0.024+0.000j\n",
      "|101110>: -0.024+0.000j\n",
      "|101111>: -0.024+0.000j\n",
      "|110000>: -0.024+0.000j\n",
      "|110001>: -0.024+0.000j\n",
      "|110010>: -0.024+0.000j\n",
      "|110011>: -0.024+0.000j\n",
      "|110100>: -0.024+0.000j\n",
      "|110101>: -0.024+0.000j\n",
      "|110110>: -0.024+0.000j\n",
      "|110111>: -0.024+0.000j\n",
      "|111000>: -0.024+0.000j\n",
      "|111001>: -0.024+0.000j\n",
      "|111010>: -0.024+0.000j\n",
      "|111011>: -0.024+0.000j\n",
      "|111100>: -0.024+0.000j\n",
      "|111101>: -0.024+0.000j\n",
      "|111110>: -0.024+0.000j\n",
      "|111111>: -0.024+0.000j\n"
     ]
    },
    {
     "data": {
      "text/html": [
       "<h2>n = 6</h2>"
      ],
      "text/plain": [
       "<IPython.core.display.HTML object>"
      ]
     },
     "metadata": {},
     "output_type": "display_data"
    },
    {
     "name": "stdout",
     "output_type": "stream",
     "text": [
      "Max amplitude: 0.998-0.000j\n",
      "|000000>: -0.007+0.000j\n",
      "|000001>: -0.007+0.000j\n",
      "|000010>: -0.007+0.000j\n",
      "|000011>: -0.007+0.000j\n",
      "|000100>: -0.007+0.000j\n",
      "|000101>: -0.007+0.000j\n",
      "|000110>: -0.007+0.000j\n",
      "|000111>: -0.007+0.000j\n",
      "|001000>: -0.007+0.000j\n",
      "|001001>: -0.007+0.000j\n",
      "|001010>: 0.998-0.000j <----------------------\n",
      "|001011>: -0.007+0.000j\n",
      "|001100>: -0.007+0.000j\n",
      "|001101>: -0.007-0.000j\n",
      "|001110>: -0.007-0.000j\n",
      "|001111>: -0.007-0.000j\n",
      "|010000>: -0.007+0.000j\n",
      "|010001>: -0.007+0.000j\n",
      "|010010>: -0.007-0.000j\n",
      "|010011>: -0.007+0.000j\n",
      "|010100>: -0.007-0.000j\n",
      "|010101>: -0.007+0.000j\n",
      "|010110>: -0.007-0.000j\n",
      "|010111>: -0.007-0.000j\n",
      "|011000>: -0.007+0.000j\n",
      "|011001>: -0.007+0.000j\n",
      "|011010>: -0.007+0.000j\n",
      "|011011>: -0.007-0.000j\n",
      "|011100>: -0.007+0.000j\n",
      "|011101>: -0.007-0.000j\n",
      "|011110>: -0.007+0.000j\n",
      "|011111>: -0.007-0.000j\n",
      "|100000>: -0.007+0.000j\n",
      "|100001>: -0.007+0.000j\n",
      "|100010>: -0.007+0.000j\n",
      "|100011>: -0.007+0.000j\n",
      "|100100>: -0.007+0.000j\n",
      "|100101>: -0.007+0.000j\n",
      "|100110>: -0.007+0.000j\n",
      "|100111>: -0.007+0.000j\n",
      "|101000>: -0.007+0.000j\n",
      "|101001>: -0.007+0.000j\n",
      "|101010>: -0.007+0.000j\n",
      "|101011>: -0.007+0.000j\n",
      "|101100>: -0.007+0.000j\n",
      "|101101>: -0.007-0.000j\n",
      "|101110>: -0.007-0.000j\n",
      "|101111>: -0.007-0.000j\n",
      "|110000>: -0.007+0.000j\n",
      "|110001>: -0.007+0.000j\n",
      "|110010>: -0.007+0.000j\n",
      "|110011>: -0.007+0.000j\n",
      "|110100>: -0.007+0.000j\n",
      "|110101>: -0.007+0.000j\n",
      "|110110>: -0.007+0.000j\n",
      "|110111>: -0.007-0.000j\n",
      "|111000>: -0.007+0.000j\n",
      "|111001>: -0.007+0.000j\n",
      "|111010>: -0.007+0.000j\n",
      "|111011>: -0.007-0.000j\n",
      "|111100>: -0.007+0.000j\n",
      "|111101>: -0.007+0.000j\n",
      "|111110>: -0.007+0.000j\n",
      "|111111>: -0.007+0.000j\n"
     ]
    },
    {
     "data": {
      "text/html": [
       "<h2>n = 7</h2>"
      ],
      "text/plain": [
       "<IPython.core.display.HTML object>"
      ]
     },
     "metadata": {},
     "output_type": "display_data"
    },
    {
     "name": "stdout",
     "output_type": "stream",
     "text": [
      "Max amplitude: -0.953+0.000j\n",
      "|000000>: 0.038-0.000j\n",
      "|000001>: 0.038-0.000j\n",
      "|000010>: 0.038-0.000j\n",
      "|000011>: 0.038-0.000j\n",
      "|000100>: 0.038-0.000j\n",
      "|000101>: 0.038-0.000j\n",
      "|000110>: 0.038-0.000j\n",
      "|000111>: 0.038-0.000j\n",
      "|001000>: 0.038-0.000j\n",
      "|001001>: 0.038-0.000j\n",
      "|001010>: -0.953+0.000j <----------------------\n",
      "|001011>: 0.038-0.000j\n",
      "|001100>: 0.038-0.000j\n",
      "|001101>: 0.038-0.000j\n",
      "|001110>: 0.038-0.000j\n",
      "|001111>: 0.038-0.000j\n",
      "|010000>: 0.038-0.000j\n",
      "|010001>: 0.038-0.000j\n",
      "|010010>: 0.038-0.000j\n",
      "|010011>: 0.038-0.000j\n",
      "|010100>: 0.038-0.000j\n",
      "|010101>: 0.038-0.000j\n",
      "|010110>: 0.038-0.000j\n",
      "|010111>: 0.038-0.000j\n",
      "|011000>: 0.038-0.000j\n",
      "|011001>: 0.038-0.000j\n",
      "|011010>: 0.038-0.000j\n",
      "|011011>: 0.038-0.000j\n",
      "|011100>: 0.038-0.000j\n",
      "|011101>: 0.038-0.000j\n",
      "|011110>: 0.038-0.000j\n",
      "|011111>: 0.038-0.000j\n",
      "|100000>: 0.038-0.000j\n",
      "|100001>: 0.038-0.000j\n",
      "|100010>: 0.038-0.000j\n",
      "|100011>: 0.038-0.000j\n",
      "|100100>: 0.038-0.000j\n",
      "|100101>: 0.038-0.000j\n",
      "|100110>: 0.038-0.000j\n",
      "|100111>: 0.038-0.000j\n",
      "|101000>: 0.038-0.000j\n",
      "|101001>: 0.038-0.000j\n",
      "|101010>: 0.038-0.000j\n",
      "|101011>: 0.038-0.000j\n",
      "|101100>: 0.038-0.000j\n",
      "|101101>: 0.038-0.000j\n",
      "|101110>: 0.038-0.000j\n",
      "|101111>: 0.038-0.000j\n",
      "|110000>: 0.038-0.000j\n",
      "|110001>: 0.038-0.000j\n",
      "|110010>: 0.038-0.000j\n",
      "|110011>: 0.038-0.000j\n",
      "|110100>: 0.038-0.000j\n",
      "|110101>: 0.038-0.000j\n",
      "|110110>: 0.038-0.000j\n",
      "|110111>: 0.038-0.000j\n",
      "|111000>: 0.038-0.000j\n",
      "|111001>: 0.038-0.000j\n",
      "|111010>: 0.038-0.000j\n",
      "|111011>: 0.038-0.000j\n",
      "|111100>: 0.038-0.000j\n",
      "|111101>: 0.038-0.000j\n",
      "|111110>: 0.038-0.000j\n",
      "|111111>: 0.038-0.000j\n"
     ]
    },
    {
     "data": {
      "text/html": [
       "<h2>n = 8</h2>"
      ],
      "text/plain": [
       "<IPython.core.display.HTML object>"
      ]
     },
     "metadata": {},
     "output_type": "display_data"
    },
    {
     "name": "stdout",
     "output_type": "stream",
     "text": [
      "Max amplitude: 0.847-0.000j\n",
      "|000000>: -0.067+0.000j\n",
      "|000001>: -0.067+0.000j\n",
      "|000010>: -0.067+0.000j\n",
      "|000011>: -0.067+0.000j\n",
      "|000100>: -0.067+0.000j\n",
      "|000101>: -0.067+0.000j\n",
      "|000110>: -0.067+0.000j\n",
      "|000111>: -0.067+0.000j\n",
      "|001000>: -0.067+0.000j\n",
      "|001001>: -0.067+0.000j\n",
      "|001010>: 0.847-0.000j <----------------------\n",
      "|001011>: -0.067+0.000j\n",
      "|001100>: -0.067+0.000j\n",
      "|001101>: -0.067+0.000j\n",
      "|001110>: -0.067+0.000j\n",
      "|001111>: -0.067+0.000j\n",
      "|010000>: -0.067+0.000j\n",
      "|010001>: -0.067+0.000j\n",
      "|010010>: -0.067+0.000j\n",
      "|010011>: -0.067+0.000j\n",
      "|010100>: -0.067+0.000j\n",
      "|010101>: -0.067+0.000j\n",
      "|010110>: -0.067+0.000j\n",
      "|010111>: -0.067+0.000j\n",
      "|011000>: -0.067+0.000j\n",
      "|011001>: -0.067+0.000j\n",
      "|011010>: -0.067+0.000j\n",
      "|011011>: -0.067+0.000j\n",
      "|011100>: -0.067+0.000j\n",
      "|011101>: -0.067+0.000j\n",
      "|011110>: -0.067+0.000j\n",
      "|011111>: -0.067+0.000j\n",
      "|100000>: -0.067+0.000j\n",
      "|100001>: -0.067+0.000j\n",
      "|100010>: -0.067+0.000j\n",
      "|100011>: -0.067+0.000j\n",
      "|100100>: -0.067+0.000j\n",
      "|100101>: -0.067+0.000j\n",
      "|100110>: -0.067+0.000j\n",
      "|100111>: -0.067+0.000j\n",
      "|101000>: -0.067+0.000j\n",
      "|101001>: -0.067+0.000j\n",
      "|101010>: -0.067+0.000j\n",
      "|101011>: -0.067+0.000j\n",
      "|101100>: -0.067+0.000j\n",
      "|101101>: -0.067+0.000j\n",
      "|101110>: -0.067+0.000j\n",
      "|101111>: -0.067+0.000j\n",
      "|110000>: -0.067+0.000j\n",
      "|110001>: -0.067+0.000j\n",
      "|110010>: -0.067+0.000j\n",
      "|110011>: -0.067+0.000j\n",
      "|110100>: -0.067+0.000j\n",
      "|110101>: -0.067+0.000j\n",
      "|110110>: -0.067+0.000j\n",
      "|110111>: -0.067+0.000j\n",
      "|111000>: -0.067+0.000j\n",
      "|111001>: -0.067+0.000j\n",
      "|111010>: -0.067+0.000j\n",
      "|111011>: -0.067+0.000j\n",
      "|111100>: -0.067+0.000j\n",
      "|111101>: -0.067+0.000j\n",
      "|111110>: -0.067+0.000j\n",
      "|111111>: -0.067+0.000j\n"
     ]
    }
   ],
   "source": [
    "for n in range(1, 9):\n",
    "    display(HTML(f'<h2>n = {n}</h2>'))\n",
    "    print_amplitudes(get_grover(oracle, n), long=True)"
   ]
  },
  {
   "cell_type": "code",
   "execution_count": null,
   "id": "0066b7f4-8956-4161-b0fb-0fefc5faa9f1",
   "metadata": {},
   "outputs": [],
   "source": []
  }
 ],
 "metadata": {
  "kernelspec": {
   "display_name": "Python 3 (ipykernel)",
   "language": "python",
   "name": "python3"
  },
  "language_info": {
   "codemirror_mode": {
    "name": "ipython",
    "version": 3
   },
   "file_extension": ".py",
   "mimetype": "text/x-python",
   "name": "python",
   "nbconvert_exporter": "python",
   "pygments_lexer": "ipython3",
   "version": "3.10.4"
  }
 },
 "nbformat": 4,
 "nbformat_minor": 5
}
