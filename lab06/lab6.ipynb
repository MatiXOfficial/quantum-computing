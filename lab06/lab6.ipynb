{
 "cells": [
  {
   "cell_type": "code",
   "execution_count": 1,
   "id": "97601f50-6dd5-4b99-8256-38d4efab873b",
   "metadata": {},
   "outputs": [],
   "source": [
    "import numpy as np\n",
    "from functools import reduce\n",
    "\n",
    "from qiskit import QuantumCircuit, QuantumRegister, ClassicalRegister, Aer, execute\n",
    "from qiskit.quantum_info import Statevector, random_statevector\n",
    "from qiskit.visualization import array_to_latex, plot_state_qsphere, plot_bloch_multivector\n",
    "from qiskit.extensions import Initialize\n",
    "\n",
    "TOKEN = ''\n",
    "\n",
    "from qiskit import transpile\n",
    "from qiskit.providers.aer import QasmSimulator\n",
    "\n",
    "from qiskit import IBMQ\n",
    "from qiskit.providers.ibmq import least_busy\n",
    "from qiskit.tools.monitor import job_monitor\n",
    "\n",
    "from qiskit.visualization import plot_histogram"
   ]
  },
  {
   "cell_type": "code",
   "execution_count": 2,
   "id": "6dc2bbe1-fbe1-438e-8dd9-5eed11aa0e5e",
   "metadata": {},
   "outputs": [
    {
     "name": "stderr",
     "output_type": "stream",
     "text": [
      "configrc.store_credentials:WARNING:2022-04-22 21:56:24,221: Credentials already present. Set overwrite=True to overwrite.\n"
     ]
    }
   ],
   "source": [
    "IBMQ.save_account(TOKEN)\n",
    "IBMQ.load_account()\n",
    "provider = IBMQ.get_provider(hub='ibm-q')"
   ]
  },
  {
   "cell_type": "markdown",
   "id": "37bcec82-ba78-4e2b-ac16-6750c277727b",
   "metadata": {},
   "source": [
    "# Deutsch"
   ]
  },
  {
   "cell_type": "markdown",
   "id": "566a87be-2f2c-4375-a499-7fb55197d7a8",
   "metadata": {},
   "source": [
    "## Deutsch function gate"
   ]
  },
  {
   "cell_type": "code",
   "execution_count": 3,
   "id": "58af9f12-d66b-4c1f-9259-8489892c21bf",
   "metadata": {},
   "outputs": [],
   "source": [
    "def deutsch_function_gate(f=1):\n",
    "    circuit = QuantumCircuit(2, name='deutsch gate')\n",
    "    if f == 0:\n",
    "        pass\n",
    "    elif f == 1:\n",
    "        circuit.cx(0, 1)\n",
    "    elif f == 2:\n",
    "        circuit.x(1)\n",
    "        circuit.cx(0, 1)\n",
    "    elif f == 3:\n",
    "        circuit.x(1)\n",
    "    else:\n",
    "        raise ValueError('Wrong f')\n",
    "    return circuit"
   ]
  },
  {
   "cell_type": "markdown",
   "id": "de4c9165-bbc1-4db2-b781-dd6f1e4f114c",
   "metadata": {},
   "source": [
    "### $f_0$"
   ]
  },
  {
   "cell_type": "code",
   "execution_count": 4,
   "id": "a7966e64-c906-440a-8684-4b2a7ac5172f",
   "metadata": {},
   "outputs": [
    {
     "data": {
      "image/png": "[encoded data removed]",
      "text/plain": [
       "<Figure size 116.552x144.48 with 1 Axes>"
      ]
     },
     "execution_count": 4,
     "metadata": {},
     "output_type": "execute_result"
    }
   ],
   "source": [
    "deutsch_function_gate(f=0).draw('mpl')"
   ]
  },
  {
   "cell_type": "markdown",
   "id": "1e29ab88-4b92-410e-b913-c192c3a11009",
   "metadata": {},
   "source": [
    "### $f_1$"
   ]
  },
  {
   "cell_type": "code",
   "execution_count": 5,
   "id": "ae377fb9-06f6-4c2a-a278-499aaab48da0",
   "metadata": {},
   "outputs": [
    {
     "data": {
      "image/png": "[encoded data removed]",
      "text/plain": [
       "<Figure size 146.652x144.48 with 1 Axes>"
      ]
     },
     "execution_count": 5,
     "metadata": {},
     "output_type": "execute_result"
    }
   ],
   "source": [
    "deutsch_function_gate(f=1).draw('mpl')"
   ]
  },
  {
   "cell_type": "markdown",
   "id": "9072bd06-1b04-47b8-9a1e-90c93d794cc8",
   "metadata": {},
   "source": [
    "### $f_3$"
   ]
  },
  {
   "cell_type": "code",
   "execution_count": 6,
   "id": "41f3b869-f93d-4b9c-8142-4cf70211369e",
   "metadata": {},
   "outputs": [
    {
     "data": {
      "image/png": "[encoded data removed]",
      "text/plain": [
       "<Figure size 206.852x144.48 with 1 Axes>"
      ]
     },
     "execution_count": 6,
     "metadata": {},
     "output_type": "execute_result"
    }
   ],
   "source": [
    "deutsch_function_gate(f=2).draw('mpl')"
   ]
  },
  {
   "cell_type": "markdown",
   "id": "f74b8e3a-3637-4085-bdf8-607accf70430",
   "metadata": {},
   "source": [
    "### $f_3$"
   ]
  },
  {
   "cell_type": "code",
   "execution_count": 7,
   "id": "db18b8ab-d3ef-4564-8f00-b35b478318b4",
   "metadata": {},
   "outputs": [
    {
     "data": {
      "image/png": "[encoded data removed]",
      "text/plain": [
       "<Figure size 146.652x144.48 with 1 Axes>"
      ]
     },
     "execution_count": 7,
     "metadata": {},
     "output_type": "execute_result"
    }
   ],
   "source": [
    "deutsch_function_gate(f=3).draw('mpl')"
   ]
  },
  {
   "cell_type": "markdown",
   "id": "28803e29-1b84-4f27-95e2-7599c1d7ec3a",
   "metadata": {},
   "source": [
    "## Deutsch problem solution"
   ]
  },
  {
   "cell_type": "code",
   "execution_count": 8,
   "id": "11c031f8-1912-4a40-931b-fe594c61c4d0",
   "metadata": {},
   "outputs": [],
   "source": [
    "def deutsch_solver_circuit(circuit, deutsch_gate, set_1=True):\n",
    "    if set_1:\n",
    "        circuit.x(1)\n",
    "        circuit.barrier()\n",
    "    \n",
    "    circuit.h(0)\n",
    "    circuit.h(1)\n",
    "    \n",
    "    circuit.append(deutsch_gate, [0, 1])\n",
    "    \n",
    "    circuit.h(0)\n",
    "    circuit.h(1)\n",
    "\n",
    "    return circuit"
   ]
  },
  {
   "cell_type": "code",
   "execution_count": 9,
   "id": "b05c3a31-0662-482b-8500-a3090e7f0064",
   "metadata": {},
   "outputs": [
    {
     "data": {
      "image/png": "[encoded data removed]",
      "text/plain": [
       "<Figure size 507.852x144.48 with 1 Axes>"
      ]
     },
     "execution_count": 9,
     "metadata": {},
     "output_type": "execute_result"
    }
   ],
   "source": [
    "circuit = QuantumCircuit(2)\n",
    "circuit = deutsch_solver_circuit(circuit, deutsch_function_gate(0))\n",
    "circuit.draw('mpl')"
   ]
  },
  {
   "cell_type": "markdown",
   "id": "0acde857-2906-441d-93ab-2e51d2ad0034",
   "metadata": {},
   "source": [
    "## $f_0$"
   ]
  },
  {
   "cell_type": "code",
   "execution_count": 10,
   "id": "34e8b0b0-d045-4d68-a30e-a616f2b40985",
   "metadata": {},
   "outputs": [
    {
     "data": {
      "text/plain": [
       "<qiskit.circuit.instructionset.InstructionSet at 0x1a1795c4380>"
      ]
     },
     "execution_count": 10,
     "metadata": {},
     "output_type": "execute_result"
    }
   ],
   "source": [
    "circuit = QuantumCircuit(2, 1)\n",
    "circuit = deutsch_solver_circuit(circuit, deutsch_function_gate(0))\n",
    "circuit.measure(0, 0)"
   ]
  },
  {
   "cell_type": "code",
   "execution_count": 11,
   "id": "d30f5ac2-065f-4a81-944a-11eb84a1fe97",
   "metadata": {},
   "outputs": [
    {
     "name": "stdout",
     "output_type": "stream",
     "text": [
      "{'0': 1024}\n"
     ]
    }
   ],
   "source": [
    "backend = QasmSimulator()\n",
    "\n",
    "circuit_compiled = transpile(circuit, backend, optimization_level=3)\n",
    "job_sim = backend.run(circuit_compiled, shots=1024)\n",
    "result_sim = job_sim.result()\n",
    "sim_counts = result_sim.get_counts(circuit_compiled)\n",
    "print(sim_counts)"
   ]
  },
  {
   "cell_type": "code",
   "execution_count": 12,
   "id": "1c26089f-f6ea-4ed8-bc33-e412a9f1d19d",
   "metadata": {},
   "outputs": [
    {
     "name": "stdout",
     "output_type": "stream",
     "text": [
      "least busy backend:  ibmq_santiago\n",
      "Job Status: job has successfully run\n",
      "{'0': 1016, '1': 8}\n"
     ]
    }
   ],
   "source": [
    "backend = least_busy(provider.backends(filters=lambda x: x.configuration().n_qubits >= 3 \n",
    "                                       and not x.configuration().simulator \n",
    "                                       and x.status().operational==True))\n",
    "print(\"least busy backend: \", backend)\n",
    "\n",
    "circuit_compiled = transpile(circuit, backend, optimization_level=3)\n",
    "\n",
    "job_real = backend.run(circuit_compiled, shots=1024)\n",
    "job_monitor(job_real, interval=1)\n",
    "result_real = job_real.result()\n",
    "real_counts = result_real.get_counts()\n",
    "print(real_counts)"
   ]
  },
  {
   "cell_type": "code",
   "execution_count": 13,
   "id": "cdee66cb-34ea-4d50-ab2e-233b4c979d61",
   "metadata": {},
   "outputs": [
    {
     "data": {
      "image/png": "[encoded data removed]",
      "text/plain": [
       "<Figure size 504x360 with 1 Axes>"
      ]
     },
     "execution_count": 13,
     "metadata": {},
     "output_type": "execute_result"
    }
   ],
   "source": [
    "plot_histogram(data=[real_counts, sim_counts], legend=['quantum device', 'simulation'])"
   ]
  },
  {
   "cell_type": "markdown",
   "id": "83dcaa0b-79ae-48c6-a7cf-f35b123fcbae",
   "metadata": {},
   "source": [
    "## $f_1$"
   ]
  },
  {
   "cell_type": "code",
   "execution_count": 14,
   "id": "ac20e14b-0289-447e-8943-1e9d2694fdf3",
   "metadata": {},
   "outputs": [
    {
     "data": {
      "text/plain": [
       "<qiskit.circuit.instructionset.InstructionSet at 0x1a17e41bd40>"
      ]
     },
     "execution_count": 14,
     "metadata": {},
     "output_type": "execute_result"
    }
   ],
   "source": [
    "circuit = QuantumCircuit(2, 1)\n",
    "circuit = deutsch_solver_circuit(circuit, deutsch_function_gate(1))\n",
    "circuit.measure(0, 0)"
   ]
  },
  {
   "cell_type": "code",
   "execution_count": 15,
   "id": "6b9be1ac-41cf-4c5b-9541-df5a76473382",
   "metadata": {},
   "outputs": [
    {
     "name": "stdout",
     "output_type": "stream",
     "text": [
      "{'1': 1024}\n"
     ]
    }
   ],
   "source": [
    "backend = QasmSimulator()\n",
    "\n",
    "circuit_compiled = transpile(circuit, backend, optimization_level=3)\n",
    "job_sim = backend.run(circuit_compiled, shots=1024)\n",
    "result_sim = job_sim.result()\n",
    "sim_counts = result_sim.get_counts(circuit_compiled)\n",
    "print(sim_counts)"
   ]
  },
  {
   "cell_type": "code",
   "execution_count": 16,
   "id": "a7d17953-18eb-48ff-9619-f7d4370cab44",
   "metadata": {},
   "outputs": [
    {
     "name": "stdout",
     "output_type": "stream",
     "text": [
      "least busy backend:  ibmq_santiago\n",
      "Job Status: job has successfully run\n",
      "{'0': 69, '1': 955}\n"
     ]
    }
   ],
   "source": [
    "backend = least_busy(provider.backends(filters=lambda x: x.configuration().n_qubits >= 3 \n",
    "                                       and not x.configuration().simulator \n",
    "                                       and x.status().operational==True))\n",
    "print(\"least busy backend: \", backend)\n",
    "\n",
    "circuit_compiled = transpile(circuit, backend, optimization_level=3)\n",
    "\n",
    "job_real = backend.run(circuit_compiled, shots=1024)\n",
    "job_monitor(job_real, interval=1)\n",
    "result_real = job_real.result()\n",
    "real_counts = result_real.get_counts()\n",
    "print(real_counts)"
   ]
  },
  {
   "cell_type": "code",
   "execution_count": 17,
   "id": "40071897-f449-460b-a1cd-82ebba5aa5a3",
   "metadata": {},
   "outputs": [
    {
     "data": {
      "image/png": "[encoded data removed]",
      "text/plain": [
       "<Figure size 504x360 with 1 Axes>"
      ]
     },
     "execution_count": 17,
     "metadata": {},
     "output_type": "execute_result"
    }
   ],
   "source": [
    "plot_histogram(data=[real_counts, sim_counts], legend=['quantum device', 'simulation'])"
   ]
  },
  {
   "cell_type": "markdown",
   "id": "15233c1b-507e-4f5a-a085-032757856d66",
   "metadata": {},
   "source": [
    "## $f_2$"
   ]
  },
  {
   "cell_type": "code",
   "execution_count": 18,
   "id": "b51daf6a-47b2-4ade-9ab3-85dd505019fd",
   "metadata": {},
   "outputs": [
    {
     "data": {
      "text/plain": [
       "<qiskit.circuit.instructionset.InstructionSet at 0x1a17e4c9e00>"
      ]
     },
     "execution_count": 18,
     "metadata": {},
     "output_type": "execute_result"
    }
   ],
   "source": [
    "circuit = QuantumCircuit(2, 1)\n",
    "circuit = deutsch_solver_circuit(circuit, deutsch_function_gate(2))\n",
    "circuit.measure(0, 0)"
   ]
  },
  {
   "cell_type": "code",
   "execution_count": 19,
   "id": "0ead386d-80cb-4e49-a0bc-ab19bbde8888",
   "metadata": {},
   "outputs": [
    {
     "name": "stdout",
     "output_type": "stream",
     "text": [
      "{'1': 1024}\n"
     ]
    }
   ],
   "source": [
    "backend = QasmSimulator()\n",
    "\n",
    "circuit_compiled = transpile(circuit, backend, optimization_level=3)\n",
    "job_sim = backend.run(circuit_compiled, shots=1024)\n",
    "result_sim = job_sim.result()\n",
    "sim_counts = result_sim.get_counts(circuit_compiled)\n",
    "print(sim_counts)"
   ]
  },
  {
   "cell_type": "code",
   "execution_count": 20,
   "id": "cc0e7c96-03e3-42b1-a8ec-fdff9cd74c4f",
   "metadata": {},
   "outputs": [
    {
     "name": "stdout",
     "output_type": "stream",
     "text": [
      "least busy backend:  ibmq_santiago\n",
      "Job Status: job has successfully run\n",
      "{'0': 48, '1': 976}\n"
     ]
    }
   ],
   "source": [
    "backend = least_busy(provider.backends(filters=lambda x: x.configuration().n_qubits >= 3 \n",
    "                                       and not x.configuration().simulator \n",
    "                                       and x.status().operational==True))\n",
    "print(\"least busy backend: \", backend)\n",
    "\n",
    "circuit_compiled = transpile(circuit, backend, optimization_level=3)\n",
    "\n",
    "job_real = backend.run(circuit_compiled, shots=1024)\n",
    "job_monitor(job_real, interval=1)\n",
    "result_real = job_real.result()\n",
    "real_counts = result_real.get_counts()\n",
    "print(real_counts)"
   ]
  },
  {
   "cell_type": "code",
   "execution_count": 21,
   "id": "28bf40ce-7095-4534-a9ec-a7232de326e2",
   "metadata": {},
   "outputs": [
    {
     "data": {
      "image/png": "[encoded data removed]",
      "text/plain": [
       "<Figure size 504x360 with 1 Axes>"
      ]
     },
     "execution_count": 21,
     "metadata": {},
     "output_type": "execute_result"
    }
   ],
   "source": [
    "plot_histogram(data=[real_counts, sim_counts], legend=['quantum device', 'simulation'])"
   ]
  },
  {
   "cell_type": "markdown",
   "id": "605fcae0-a1f5-4464-aa69-5f5b698bfb0b",
   "metadata": {},
   "source": [
    "## $f_3$"
   ]
  },
  {
   "cell_type": "code",
   "execution_count": 22,
   "id": "9e1d58c4-b824-4f6c-939d-756b137a66fa",
   "metadata": {},
   "outputs": [
    {
     "data": {
      "text/plain": [
       "<qiskit.circuit.instructionset.InstructionSet at 0x1a1794c5d80>"
      ]
     },
     "execution_count": 22,
     "metadata": {},
     "output_type": "execute_result"
    }
   ],
   "source": [
    "circuit = QuantumCircuit(2, 1)\n",
    "circuit = deutsch_solver_circuit(circuit, deutsch_function_gate(3))\n",
    "circuit.measure(0, 0)"
   ]
  },
  {
   "cell_type": "code",
   "execution_count": 23,
   "id": "33ee0c2c-93eb-4fa2-ad58-0680948e5bc9",
   "metadata": {},
   "outputs": [
    {
     "name": "stdout",
     "output_type": "stream",
     "text": [
      "{'0': 1024}\n"
     ]
    }
   ],
   "source": [
    "backend = QasmSimulator()\n",
    "\n",
    "circuit_compiled = transpile(circuit, backend, optimization_level=3)\n",
    "job_sim = backend.run(circuit_compiled, shots=1024)\n",
    "result_sim = job_sim.result()\n",
    "sim_counts = result_sim.get_counts(circuit_compiled)\n",
    "print(sim_counts)"
   ]
  },
  {
   "cell_type": "code",
   "execution_count": 24,
   "id": "49dcca8f-a55a-4331-afcb-945ed9eb30c1",
   "metadata": {},
   "outputs": [
    {
     "name": "stdout",
     "output_type": "stream",
     "text": [
      "least busy backend:  ibmq_santiago\n",
      "Job Status: job has successfully run\n",
      "{'0': 1011, '1': 13}\n"
     ]
    }
   ],
   "source": [
    "backend = least_busy(provider.backends(filters=lambda x: x.configuration().n_qubits >= 3 \n",
    "                                       and not x.configuration().simulator \n",
    "                                       and x.status().operational==True))\n",
    "print(\"least busy backend: \", backend)\n",
    "\n",
    "circuit_compiled = transpile(circuit, backend, optimization_level=3)\n",
    "\n",
    "job_real = backend.run(circuit_compiled, shots=1024)\n",
    "job_monitor(job_real, interval=1)\n",
    "result_real = job_real.result()\n",
    "real_counts = result_real.get_counts()\n",
    "print(real_counts)"
   ]
  },
  {
   "cell_type": "code",
   "execution_count": 25,
   "id": "f6b4ab11-795d-448c-8726-2e20f00d090d",
   "metadata": {},
   "outputs": [
    {
     "data": {
      "image/png": "[encoded data removed]",
      "text/plain": [
       "<Figure size 504x360 with 1 Axes>"
      ]
     },
     "execution_count": 25,
     "metadata": {},
     "output_type": "execute_result"
    }
   ],
   "source": [
    "plot_histogram(data=[real_counts, sim_counts], legend=['quantum device', 'simulation'])"
   ]
  },
  {
   "cell_type": "markdown",
   "id": "0d7bbbc0-bfb7-436d-afca-0a5d1a18b360",
   "metadata": {},
   "source": [
    "# Bernstein-Vazirani"
   ]
  },
  {
   "cell_type": "code",
   "execution_count": 26,
   "id": "708a5bee-f411-423e-8706-c5d3486386b4",
   "metadata": {},
   "outputs": [],
   "source": [
    "N = 4\n",
    "A = [0, 1, 0, 1]"
   ]
  },
  {
   "cell_type": "markdown",
   "id": "bda0f9f5-1ed1-4104-a88f-c3a33102f1d7",
   "metadata": {},
   "source": [
    "## Classical solution"
   ]
  },
  {
   "cell_type": "code",
   "execution_count": 27,
   "id": "20d11de6-78c5-4b9e-9f4d-ff7d53eb1a62",
   "metadata": {},
   "outputs": [
    {
     "data": {
      "text/plain": [
       "[0, 1, 0, 1]"
      ]
     },
     "execution_count": 27,
     "metadata": {},
     "output_type": "execute_result"
    }
   ],
   "source": [
    "def list_xor(x):\n",
    "    return reduce(lambda a, b: a ^ b, x)\n",
    "\n",
    "def f(x):\n",
    "    return list_xor(np.array(A) * np.array(x))\n",
    "\n",
    "def classical_sort_bv():\n",
    "    result_a = [0] * N\n",
    "    for i in range(N):\n",
    "        x = [0] * N\n",
    "        x[i] = 1\n",
    "        result_a[i] = f(x)\n",
    "    return result_a\n",
    "        \n",
    "found_a = classical_sort_bv()\n",
    "found_a"
   ]
  },
  {
   "cell_type": "markdown",
   "id": "05ba9c78-1710-45c6-98ec-ba2f37f3eb9e",
   "metadata": {},
   "source": [
    "## Quantum solution"
   ]
  },
  {
   "cell_type": "code",
   "execution_count": 28,
   "id": "f4f2743f-e3bd-440e-80b1-92f43a6adb54",
   "metadata": {},
   "outputs": [
    {
     "data": {
      "image/png": "[encoded data removed]",
      "text/plain": [
       "<Figure size 206.132x325.08 with 1 Axes>"
      ]
     },
     "execution_count": 28,
     "metadata": {},
     "output_type": "execute_result"
    }
   ],
   "source": [
    "def bf_function_gate():\n",
    "    x_register = QuantumRegister(N, name='x')\n",
    "    y_register = QuantumRegister(1, name='y')\n",
    "    circuit = QuantumCircuit(x_register, y_register, name='bf gate')\n",
    "    for i in range(N):\n",
    "        if A[i] == 1:\n",
    "            circuit.cx(x_register[i], y_register[0])\n",
    "    return circuit\n",
    "\n",
    "bf_function_gate().draw('mpl')"
   ]
  },
  {
   "cell_type": "code",
   "execution_count": 29,
   "id": "127f9025-1c6f-44e9-beee-731b3f4b97d3",
   "metadata": {},
   "outputs": [],
   "source": [
    "def bf_solver_circuit(circuit, bf_gate, set_1=True):\n",
    "    if set_1:\n",
    "        circuit.x(N)\n",
    "        circuit.barrier()\n",
    "        \n",
    "    for i in range(N + 1):\n",
    "        circuit.h(i)\n",
    "    circuit.barrier()\n",
    "        \n",
    "    circuit.append(bf_gate, [i for i in range(N + 1)])\n",
    "    \n",
    "    circuit.barrier()\n",
    "    for i in range(N + 1):\n",
    "        circuit.h(i)\n",
    "        \n",
    "    return circuit"
   ]
  },
  {
   "cell_type": "code",
   "execution_count": 30,
   "id": "92ec45fe-adeb-49f6-8953-2d34c9854521",
   "metadata": {},
   "outputs": [
    {
     "data": {
      "image/png": "[encoded data removed]",
      "text/plain": [
       "<Figure size 567.332x325.08 with 1 Axes>"
      ]
     },
     "execution_count": 30,
     "metadata": {},
     "output_type": "execute_result"
    }
   ],
   "source": [
    "x_register = QuantumRegister(N, name='x')\n",
    "y_register = QuantumRegister(1, name='y')\n",
    "\n",
    "circuit = QuantumCircuit(x_register, y_register)\n",
    "circuit = bf_solver_circuit(circuit, bf_function_gate())\n",
    "circuit.draw('mpl')"
   ]
  },
  {
   "cell_type": "code",
   "execution_count": 31,
   "id": "c41c4420-ad22-45e7-a4df-e5043427c8ce",
   "metadata": {},
   "outputs": [
    {
     "data": {
      "image/png": "[encoded data removed]",
      "text/plain": [
       "<Figure size 808.132x385.28 with 1 Axes>"
      ]
     },
     "execution_count": 31,
     "metadata": {},
     "output_type": "execute_result"
    }
   ],
   "source": [
    "x_register = QuantumRegister(N, name='x')\n",
    "y_register = QuantumRegister(1, name='y')\n",
    "classical_register = ClassicalRegister(N)\n",
    "\n",
    "circuit = QuantumCircuit(x_register, y_register, classical_register)\n",
    "circuit = bf_solver_circuit(circuit, bf_function_gate())\n",
    "circuit.measure(x_register, reversed(classical_register))\n",
    "circuit.draw('mpl')"
   ]
  },
  {
   "cell_type": "code",
   "execution_count": 32,
   "id": "096452f6-2a1f-4ce4-98e6-c8ba953f30ce",
   "metadata": {},
   "outputs": [
    {
     "name": "stdout",
     "output_type": "stream",
     "text": [
      "{'0101': 1024}\n"
     ]
    }
   ],
   "source": [
    "backend = QasmSimulator()\n",
    "\n",
    "circuit_compiled = transpile(circuit, backend, optimization_level=3)\n",
    "job_sim = backend.run(circuit_compiled, shots=1024)\n",
    "result_sim = job_sim.result()\n",
    "sim_counts = result_sim.get_counts(circuit_compiled)\n",
    "print(sim_counts)"
   ]
  },
  {
   "cell_type": "code",
   "execution_count": 33,
   "id": "4a840f2b-563b-440a-80b7-7a717c618238",
   "metadata": {},
   "outputs": [
    {
     "name": "stdout",
     "output_type": "stream",
     "text": [
      "least busy backend:  ibmq_santiago\n",
      "Job Status: job has successfully run\n",
      "{'0000': 15, '0001': 41, '0010': 4, '0011': 10, '0100': 42, '0101': 796, '0110': 4, '0111': 80, '1001': 1, '1010': 1, '1101': 17, '1110': 2, '1111': 11}\n"
     ]
    }
   ],
   "source": [
    "backend = least_busy(provider.backends(filters=lambda x: x.configuration().n_qubits >= N + 1 \n",
    "                                       and not x.configuration().simulator \n",
    "                                       and x.status().operational==True))\n",
    "print(\"least busy backend: \", backend)\n",
    "\n",
    "circuit_compiled = transpile(circuit, backend, optimization_level=3)\n",
    "\n",
    "job_real = backend.run(circuit_compiled, shots=1024)\n",
    "job_monitor(job_real, interval=1)\n",
    "result_real = job_real.result()\n",
    "real_counts = result_real.get_counts()\n",
    "print(real_counts)"
   ]
  },
  {
   "cell_type": "code",
   "execution_count": 34,
   "id": "76ae17b7-8095-48bb-840d-3b1c2c87d05b",
   "metadata": {},
   "outputs": [
    {
     "data": {
      "image/png": "[encoded data removed]",
      "text/plain": [
       "<Figure size 504x360 with 1 Axes>"
      ]
     },
     "execution_count": 34,
     "metadata": {},
     "output_type": "execute_result"
    }
   ],
   "source": [
    "plot_histogram(data=[real_counts, sim_counts], legend=['quantum device', 'simulation'])"
   ]
  },
  {
   "cell_type": "code",
   "execution_count": null,
   "id": "4a0a9543-30d2-430b-a42d-06cdd0643e4b",
   "metadata": {},
   "outputs": [],
   "source": []
  }
 ],
 "metadata": {
  "kernelspec": {
   "display_name": "Python 3 (ipykernel)",
   "language": "python",
   "name": "python3"
  },
  "language_info": {
   "codemirror_mode": {
    "name": "ipython",
    "version": 3
   },
   "file_extension": ".py",
   "mimetype": "text/x-python",
   "name": "python",
   "nbconvert_exporter": "python",
   "pygments_lexer": "ipython3",
   "version": "3.10.4"
  }
 },
 "nbformat": 4,
 "nbformat_minor": 5
}
